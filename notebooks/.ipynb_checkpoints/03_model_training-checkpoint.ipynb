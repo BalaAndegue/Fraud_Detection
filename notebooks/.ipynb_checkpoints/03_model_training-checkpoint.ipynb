{
 "cells": [
  {
   "cell_type": "code",
   "execution_count": null,
   "id": "650dc714",
   "metadata": {
    "vscode": {
     "languageId": "plaintext"
    }
   },
   "outputs": [],
   "source": [
    "# Cellule 1 - Imports\n",
    "import pandas as pd\n",
    "import numpy as np\n",
    "import matplotlib.pyplot as plt\n",
    "from src.data.data_loader import DataLoader\n",
    "from src.features.feature_engineer import FeatureEngineer\n",
    "from src.models.model_trainer import ModelTrainer\n",
    "from sklearn.model_selection import train_test_split\n",
    "from imblearn.over_sampling import SMOTE\n",
    "from sklearn.metrics import classification_report, confusion_matrix, roc_curve, auc\n",
    "\n",
    "print(\"🤖 Entraînement des Modèles de Machine Learning\")"
   ]
  },
  {
   "cell_type": "code",
   "execution_count": null,
   "id": "a63a331c",
   "metadata": {
    "vscode": {
     "languageId": "plaintext"
    }
   },
   "outputs": [],
   "source": [
    "# Cellule 2 - Préparation des données\n",
    "loader = DataLoader()\n",
    "df = loader.load_raw_data()\n",
    "\n",
    "fe = FeatureEngineer()\n",
    "df_engineered = fe.create_features(df)\n",
    "\n",
    "X = df_engineered.drop('Class', axis=1)\n",
    "y = df_engineered['Class']\n",
    "\n",
    "X_train, X_test, y_train, y_test = train_test_split(X, y, test_size=0.2, random_state=42, stratify=y)\n",
    "\n",
    "smote = SMOTE(random_state=42)\n",
    "X_train_res, y_train_res = smote.fit_resample(X_train, y_train)\n",
    "\n",
    "print(\"✅ Données prêtes pour l'entraînement\")"
   ]
  },
  {
   "cell_type": "code",
   "execution_count": null,
   "id": "baf80c03",
   "metadata": {
    "vscode": {
     "languageId": "plaintext"
    }
   },
   "outputs": [],
   "source": [
    "# Cellule 3 - Entraînement des modèles\n",
    "trainer = ModelTrainer()\n",
    "results = trainer.train_models(X_train_res, y_train_res, X_test, y_test)\n",
    "\n",
    "best_model, best_score = trainer.get_best_model()\n",
    "print(f\"🎯 MEILLEUR MODÈLE: AUC = {best_score:.4f}\")"
   ]
  },
  {
   "cell_type": "code",
   "execution_count": null,
   "id": "e0a5c7f8",
   "metadata": {
    "vscode": {
     "languageId": "plaintext"
    }
   },
   "outputs": [],
   "source": [
    "# Cellule 4 - Évaluation détaillée\n",
    "from sklearn.metrics import precision_recall_curve\n",
    "\n",
    "# Prédictions du meilleur modèle\n",
    "y_pred = best_model.predict(X_test)\n",
    "y_proba = best_model.predict_proba(X_test)[:, 1]\n",
    "\n",
    "print(\"📊 RAPPORT DE CLASSIFICATION:\")\n",
    "print(classification_report(y_test, y_pred))\n",
    "\n",
    "print(\"\\n🎯 MATRICE DE CONFUSION:\")\n",
    "print(confusion_matrix(y_test, y_pred))"
   ]
  }
 ],
 "metadata": {
  "language_info": {
   "name": "python"
  }
 },
 "nbformat": 4,
 "nbformat_minor": 5
}
