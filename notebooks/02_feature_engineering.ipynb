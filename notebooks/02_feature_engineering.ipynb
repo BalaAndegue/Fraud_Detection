{
 "cells": [
  {
   "cell_type": "code",
   "execution_count": 2,
   "id": "d7b13102-4d1c-477e-9cd1-819f86695b88",
   "metadata": {},
   "outputs": [],
   "source": [
    "import sys\n",
    "import os\n",
    "\n",
    "# Ajouter le dossier parent de 'src' au chemin Python\n",
    "project_root = os.path.abspath(os.path.join(os.getcwd(), '..'))\n",
    "if project_root not in sys.path:\n",
    "    sys.path.append(project_root)\n"
   ]
  },
  {
   "cell_type": "code",
   "execution_count": 3,
   "id": "f2ad0c61",
   "metadata": {
    "vscode": {
     "languageId": "plaintext"
    }
   },
   "outputs": [
    {
     "name": "stdout",
     "output_type": "stream",
     "text": [
      "🔧 Feature Engineering\n"
     ]
    }
   ],
   "source": [
    "# Cellule 1 - Imports\n",
    "import pandas as pd\n",
    "import numpy as np\n",
    "from src.data.data_loader import DataLoader\n",
    "from src.features.feature_engineer import FeatureEngineer\n",
    "from sklearn.model_selection import train_test_split\n",
    "from imblearn.over_sampling import SMOTE\n",
    "\n",
    "print(\"🔧 Feature Engineering\")"
   ]
  },
  {
   "cell_type": "code",
   "execution_count": 4,
   "id": "1ca0290c",
   "metadata": {
    "vscode": {
     "languageId": "plaintext"
    }
   },
   "outputs": [
    {
     "name": "stdout",
     "output_type": "stream",
     "text": [
      " Données chargées: 100000 transactions\n",
      "✅ Features originales: 31\n",
      "✅ Features après engineering: 40\n",
      "📊 Nouvelles colonnes: ['hour_of_day', 'is_night', 'amount_log', 'amount_category', 'V1_amount_interaction', 'V2_amount_interaction', 'V3_amount_interaction', 'V4_amount_interaction', 'V5_amount_interaction']\n"
     ]
    }
   ],
   "source": [
    "# Cellule 2 - Chargement et feature engineering\n",
    "loader = DataLoader()\n",
    "df = loader.load_raw_data()\n",
    "\n",
    "# Application du feature engineering\n",
    "fe = FeatureEngineer()\n",
    "df_engineered = fe.create_features(df)\n",
    "\n",
    "print(f\"✅ Features originales: {df.shape[1]}\")\n",
    "print(f\"✅ Features après engineering: {df_engineered.shape[1]}\")\n",
    "print(f\"📊 Nouvelles colonnes: {[col for col in df_engineered.columns if col not in df.columns]}\")"
   ]
  },
  {
   "cell_type": "code",
   "execution_count": 5,
   "id": "d6ead752",
   "metadata": {
    "vscode": {
     "languageId": "plaintext"
    }
   },
   "outputs": [
    {
     "name": "stdout",
     "output_type": "stream",
     "text": [
      "📈 Données après split:\n",
      "X_train: (80000, 39), y_train: (80000,)\n",
      "X_test: (20000, 39), y_test: (20000,)\n",
      "🎯 Fraudes dans train: 136, test: 34\n"
     ]
    }
   ],
   "source": [
    "# Cellule 3 - Préparation des données pour le ML\n",
    "X = df_engineered.drop('Class', axis=1)\n",
    "y = df_engineered['Class']\n",
    "\n",
    "# Split train/test\n",
    "X_train, X_test, y_train, y_test = train_test_split(\n",
    "    X, y, test_size=0.2, random_state=42, stratify=y\n",
    ")\n",
    "\n",
    "print(f\"📈 Données après split:\")\n",
    "print(f\"X_train: {X_train.shape}, y_train: {y_train.shape}\")\n",
    "print(f\"X_test: {X_test.shape}, y_test: {y_test.shape}\")\n",
    "print(f\"🎯 Fraudes dans train: {y_train.sum()}, test: {y_test.sum()}\")"
   ]
  },
  {
   "cell_type": "code",
   "execution_count": null,
   "id": "50ba1b0a",
   "metadata": {
    "vscode": {
     "languageId": "plaintext"
    }
   },
   "outputs": [],
   "source": [
    "# Cellule 4 - Gestion du déséquilibre avec SMOTE\n",
    "print(\"🔄 Application de SMOTE pour équilibrer les classes...\")\n",
    "\n",
    "smote = SMOTE(random_state=42)\n",
    "X_train_res, y_train_res = smote.fit_resample(X_train, y_train)\n",
    "\n",
    "print(f\"✅ Après SMOTE:\")\n",
    "print(f\"X_train_res: {X_train_res.shape}\")\n",
    "print(f\"y_train_res: {y_train_res.shape}\")\n",
    "print(f\"Distribution: {pd.Series(y_train_res).value_counts().to_dict()}\")"
   ]
  }
 ],
 "metadata": {
  "kernelspec": {
   "display_name": "Python 3 (ipykernel)",
   "language": "python",
   "name": "python3"
  },
  "language_info": {
   "codemirror_mode": {
    "name": "ipython",
    "version": 3
   },
   "file_extension": ".py",
   "mimetype": "text/x-python",
   "name": "python",
   "nbconvert_exporter": "python",
   "pygments_lexer": "ipython3",
   "version": "3.9.23"
  }
 },
 "nbformat": 4,
 "nbformat_minor": 5
}
